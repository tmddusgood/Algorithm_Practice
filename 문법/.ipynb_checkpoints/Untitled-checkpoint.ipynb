{
 "cells": [
  {
   "cell_type": "markdown",
   "metadata": {},
   "source": [
    "# 리스트 메소드 연습\n",
    "\n",
    "리스트를 처음 초기화할 때, append() 보다는 리스트 comprehension이 좋다.\n",
    "이 때 완전한 형태가 아니게 잘못 진행하면 deep copy의 함정에 빠질 수 있다."
   ]
  },
  {
   "cell_type": "code",
   "execution_count": 2,
   "metadata": {
    "scrolled": true
   },
   "outputs": [
    {
     "name": "stdout",
     "output_type": "stream",
     "text": [
      "[[0, 0, 0], [0, 0, 0]]\n"
     ]
    }
   ],
   "source": [
    "n = 2\n",
    "m = 3\n",
    "example = [[0]*3 for _ in range(n)]\n",
    "print(example)"
   ]
  },
  {
   "cell_type": "code",
   "execution_count": 3,
   "metadata": {},
   "outputs": [
    {
     "name": "stdout",
     "output_type": "stream",
     "text": [
      "[[0, 0, 0], [0, 0, 0], [1]]\n"
     ]
    }
   ],
   "source": [
    "#초기화된 형태에 맞추지 않으면 이런 문제가 생긴다.\n",
    "example.append([1])\n",
    "print(example)"
   ]
  },
  {
   "cell_type": "code",
   "execution_count": 4,
   "metadata": {
    "scrolled": true
   },
   "outputs": [
    {
     "name": "stdout",
     "output_type": "stream",
     "text": [
      "[[0, 0, 0], [0, 0, 0]]\n"
     ]
    }
   ],
   "source": [
    "n = 2\n",
    "m = 3\n",
    "example = [[0]*3 for _ in range(n)]\n",
    "print(example)"
   ]
  },
  {
   "cell_type": "code",
   "execution_count": 5,
   "metadata": {
    "scrolled": true
   },
   "outputs": [
    {
     "name": "stdout",
     "output_type": "stream",
     "text": [
      "[[0, 0, 0], [0, 0, 1]]\n"
     ]
    }
   ],
   "source": [
    "example[1][2] = 1\n",
    "print(example)"
   ]
  },
  {
   "cell_type": "code",
   "execution_count": 6,
   "metadata": {
    "scrolled": true
   },
   "outputs": [
    {
     "name": "stdout",
     "output_type": "stream",
     "text": [
      "1\n"
     ]
    }
   ],
   "source": [
    "count = 0\n",
    "for _ in example:\n",
    "    count += _.count(1)\n",
    "print(count)"
   ]
  },
  {
   "cell_type": "markdown",
   "metadata": {},
   "source": []
  },
  {
   "cell_type": "code",
   "execution_count": 7,
   "metadata": {
    "collapsed": true
   },
   "outputs": [
    {
     "name": "stdout",
     "output_type": "stream",
     "text": [
      "[1, 2, 4, 6, 7, 8]\n"
     ]
    }
   ],
   "source": [
    "a = [1,2,3,4,5,6,7,8]\n",
    "remove_set = {3, 5}\n",
    "\n",
    "new_list = [item for item in a if not item in remove_set]\n",
    "print(new_list)"
   ]
  },
  {
   "cell_type": "markdown",
   "metadata": {},
   "source": [
    "# 튜플 자료형 연습"
   ]
  },
  {
   "cell_type": "code",
   "execution_count": 6,
   "metadata": {},
   "outputs": [
    {
     "name": "stdout",
     "output_type": "stream",
     "text": [
      "ABCDE\n",
      "('A', 'B', 'C', 'D')\n"
     ]
    }
   ],
   "source": [
    "a = 'ABCDEF'\n",
    "\n",
    "print(a[:-1])\n",
    "example_tuple = ('A', 'B', 'C', 'D')\n",
    "\n",
    "# for letter in a:\n",
    "#     tuple.append(letter)\n",
    "print(example_tuple)"
   ]
  }
 ],
 "metadata": {
  "kernelspec": {
   "display_name": "python3_KSY",
   "language": "python",
   "name": "python3_ksy"
  },
  "language_info": {
   "codemirror_mode": {
    "name": "ipython",
    "version": 2
   },
   "file_extension": ".py",
   "mimetype": "text/x-python",
   "name": "python",
   "nbconvert_exporter": "python",
   "pygments_lexer": "ipython2",
   "version": "2.7.16"
  },
  "widgets": {
   "state": {},
   "version": "1.1.2"
  }
 },
 "nbformat": 4,
 "nbformat_minor": 2
}
