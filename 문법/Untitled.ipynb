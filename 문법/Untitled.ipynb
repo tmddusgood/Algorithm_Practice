{
 "cells": [
  {
   "cell_type": "markdown",
   "metadata": {},
   "source": [
    "# 리스트 메소드 연습\n",
    "\n",
    "리스트를 처음 초기화할 때, append() 보다는 리스트 comprehension이 좋다.\n",
    "\n",
    "이 때 완전한 형태가 아니게 잘못 진행하면 deep copy의 함정에 빠질 수 있다."
   ]
  },
  {
   "cell_type": "code",
   "execution_count": null,
   "metadata": {
    "scrolled": true
   },
   "outputs": [
    {
     "name": "stdout",
     "output_type": "stream",
     "text": [
      "[[0, 0, 0], [0, 0, 0]]\n"
     ]
    }
   ],
   "source": [
    "n = 2\n",
    "m = 3\n",
    "example = [[0]*3 for _ in range(n)]\n",
    "print(example)"
   ]
  },
  {
   "cell_type": "code",
   "execution_count": 3,
   "metadata": {},
   "outputs": [
    {
     "name": "stdout",
     "output_type": "stream",
     "text": [
      "[[0, 0, 0], [0, 0, 0], [1]]\n"
     ]
    }
   ],
   "source": [
    "#초기화된 형태에 맞추지 않으면 이런 문제가 생긴다.\n",
    "example.append([1])\n",
    "print(example)"
   ]
  },
  {
   "cell_type": "code",
   "execution_count": 4,
   "metadata": {
    "scrolled": true
   },
   "outputs": [
    {
     "name": "stdout",
     "output_type": "stream",
     "text": [
      "[[0, 0, 0], [0, 0, 0]]\n"
     ]
    }
   ],
   "source": [
    "n = 2\n",
    "m = 3\n",
    "example = [[0]*3 for _ in range(n)]\n",
    "print(example)"
   ]
  },
  {
   "cell_type": "code",
   "execution_count": 5,
   "metadata": {
    "scrolled": true
   },
   "outputs": [
    {
     "name": "stdout",
     "output_type": "stream",
     "text": [
      "[[0, 0, 0], [0, 0, 1]]\n"
     ]
    }
   ],
   "source": [
    "example[1][2] = 1\n",
    "print(example)"
   ]
  },
  {
   "cell_type": "code",
   "execution_count": 6,
   "metadata": {
    "scrolled": true
   },
   "outputs": [
    {
     "name": "stdout",
     "output_type": "stream",
     "text": [
      "1\n"
     ]
    }
   ],
   "source": [
    "count = 0\n",
    "for _ in example:\n",
    "    count += _.count(1)\n",
    "print(count)"
   ]
  },
  {
   "cell_type": "markdown",
   "metadata": {},
   "source": []
  },
  {
   "cell_type": "code",
   "execution_count": 7,
   "metadata": {
    "collapsed": true
   },
   "outputs": [
    {
     "name": "stdout",
     "output_type": "stream",
     "text": [
      "[1, 2, 4, 6, 7, 8]\n"
     ]
    }
   ],
   "source": [
    "a = [1,2,3,4,5,6,7,8]\n",
    "remove_set = {3, 5}\n",
    "\n",
    "new_list = [item for item in a if not item in remove_set]\n",
    "print(new_list)"
   ]
  },
  {
   "cell_type": "markdown",
   "metadata": {},
   "source": [
    "# 튜플 자료형 연습"
   ]
  },
  {
   "cell_type": "code",
   "execution_count": 7,
   "metadata": {},
   "outputs": [
    {
     "name": "stdout",
     "output_type": "stream",
     "text": [
      "ABCDE\n",
      "('A', 'B', 'C', 'D')\n"
     ]
    }
   ],
   "source": [
    "a = 'ABCDEF'\n",
    "\n",
    "print(a[:-1])\n",
    "example_tuple = ('A', 'B', 'C', 'D')\n",
    "\n",
    "# for letter in a:\n",
    "#     tuple.append(letter)\n",
    "print(example_tuple)"
   ]
  },
  {
   "cell_type": "markdown",
   "metadata": {},
   "source": [
    "# 딕셔너리 연습"
   ]
  },
  {
   "cell_type": "code",
   "execution_count": 15,
   "metadata": {},
   "outputs": [
    {
     "name": "stdout",
     "output_type": "stream",
     "text": [
      "['SY', '2H', 'Jacky']\n",
      "['Alumni', 'Undergraduate', 'GrduateStudent']\n"
     ]
    }
   ],
   "source": [
    "data = dict()\n",
    "data = {}\n",
    "data['SY'] = \"Alumni\"\n",
    "data['Jacky'] = 'GrduateStudent'\n",
    "data['2H'] = 'Undergraduate'\n",
    "\n",
    "print(data.keys())\n",
    "print(data.values())\n"
   ]
  },
  {
   "cell_type": "code",
   "execution_count": 17,
   "metadata": {},
   "outputs": [
    {
     "name": "stdout",
     "output_type": "stream",
     "text": [
      "Alumni\n",
      "Undergraduate\n",
      "GrduateStudent\n"
     ]
    }
   ],
   "source": [
    "for key in data.keys():\n",
    "    print(data[key])"
   ]
  },
  {
   "cell_type": "markdown",
   "metadata": {},
   "source": [
    "# 집합 연습"
   ]
  },
  {
   "cell_type": "code",
   "execution_count": 19,
   "metadata": {
    "scrolled": false
   },
   "outputs": [
    {
     "name": "stdout",
     "output_type": "stream",
     "text": [
      "set([0, 1, 2, 3, 4, 5, 6, 7, 8, 9, 11, 13, 15, 17, 19])\n",
      "set([])\n",
      "set([0, 8, 2, 4, 6])\n"
     ]
    }
   ],
   "source": [
    "# set() 함수 안에 리스트 형태를 넣으면\n",
    "# 마찬가지로 리스트 컴프리헨션을 이용할 수도 있다.\n",
    "\n",
    "a = set([item for item in range(10) if item%2 != 1])\n",
    "b = set([item for item in range(20) if item%2 == 1])\n",
    "print(a|b)\n",
    "print(a&b)\n",
    "print(a-b)\n"
   ]
  },
  {
   "cell_type": "markdown",
   "metadata": {},
   "source": [
    "# sys 사용을 통한 Readline()"
   ]
  },
  {
   "cell_type": "code",
   "execution_count": 2,
   "metadata": {},
   "outputs": [
    {
     "name": "stdout",
     "output_type": "stream",
     "text": [
      "[1, 2]\n"
     ]
    }
   ],
   "source": [
    "# import sys\n",
    "\n",
    "# #문자열 입력받기\n",
    "# data = sys.stdin.readline().rstrip()\n",
    "data = [1,2]\n",
    "print(data)"
   ]
  },
  {
   "cell_type": "markdown",
   "metadata": {},
   "source": [
    "# 표준 라이브러리"
   ]
  },
  {
   "cell_type": "code",
   "execution_count": null,
   "metadata": {},
   "outputs": [
    {
     "name": "stdout",
     "output_type": "stream",
     "text": [
      "[('a', 'b', 'c'), ('a', 'c', 'b'), ('b', 'a', 'c'), ('b', 'c', 'a'), ('c', 'a', 'b'), ('c', 'b', 'a')]\n"
     ]
    }
   ],
   "source": [
    "#itertools\n",
    "\n",
    "from itertools import permutations\n",
    "\n",
    "data = ['a', 'b', 'c']\n",
    "result = list(permutations(data, 3))\n",
    "print(result)"
   ]
  },
  {
   "cell_type": "code",
   "execution_count": 6,
   "metadata": {},
   "outputs": [
    {
     "name": "stdout",
     "output_type": "stream",
     "text": [
      "[('a', 'b', 'c')]\n"
     ]
    }
   ],
   "source": [
    "#itertools\n",
    "\n",
    "from itertools import combinations\n",
    "\n",
    "data = ['a', 'b', 'c']\n",
    "result = list(combinations(data, 3))\n",
    "print(result)"
   ]
  },
  {
   "cell_type": "code",
   "execution_count": 9,
   "metadata": {},
   "outputs": [
    {
     "name": "stdout",
     "output_type": "stream",
     "text": [
      "[('a', 'a'), ('a', 'b'), ('a', 'c'), ('b', 'b'), ('b', 'c'), ('c', 'c')]\n"
     ]
    }
   ],
   "source": [
    "#itertools combinations with replacement\n",
    "#중복 조합이라는 뜻... 위와 같이 똑같이 사용하면 된다\n",
    "\n",
    "from itertools import combinations_with_replacement\n",
    "data = ['a', 'b', 'c']\n",
    "result = list(combinations_with_replacement(data, 2))\n",
    "print(result)\n"
   ]
  },
  {
   "cell_type": "markdown",
   "metadata": {},
   "source": [
    "# heapq 사용"
   ]
  },
  {
   "cell_type": "code",
   "execution_count": 12,
   "metadata": {},
   "outputs": [
    {
     "name": "stdout",
     "output_type": "stream",
     "text": [
      "[1, 2, 3, 4, 5, 6, 7, 8, 9, 10]\n"
     ]
    }
   ],
   "source": [
    "import heapq\n",
    "\n",
    "def heapsort(iterable):\n",
    "    h = []\n",
    "    result = []\n",
    "    #모든 원소를 차례대로 힙에 삽입\n",
    "    for value in iterable:\n",
    "        heapq.heappush(h, value)\n",
    "    # 힙에 삽입된 모든 원소를 차례대로 꺼내어 담기\n",
    "    for i in range(len(h)):\n",
    "        result.append(heapq.heappop(h))\n",
    "    return result\n",
    "\n",
    "result = heapsort([1,3,5,7,9,2,4,6,8,10])\n",
    "print(result)"
   ]
  }
 ],
 "metadata": {
  "kernelspec": {
   "display_name": "python3_KSY",
   "language": "python",
   "name": "python3_ksy"
  },
  "language_info": {
   "codemirror_mode": {
    "name": "ipython",
    "version": 2
   },
   "file_extension": ".py",
   "mimetype": "text/x-python",
   "name": "python",
   "nbconvert_exporter": "python",
   "pygments_lexer": "ipython2",
   "version": "2.7.16"
  },
  "widgets": {
   "state": {},
   "version": "1.1.2"
  }
 },
 "nbformat": 4,
 "nbformat_minor": 2
}
